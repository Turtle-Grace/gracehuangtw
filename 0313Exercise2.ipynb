{
  "cells": [
    {
      "cell_type": "markdown",
      "metadata": {
        "id": "view-in-github",
        "colab_type": "text"
      },
      "source": [
        "<a href=\"https://colab.research.google.com/github/Turtle-Grace/gracehuangtw/blob/main/0313Exercise2.ipynb\" target=\"_parent\"><img src=\"https://colab.research.google.com/assets/colab-badge.svg\" alt=\"Open In Colab\"/></a>"
      ]
    },
    {
      "metadata": {
        "id": "83c3c567914bf017"
      },
      "cell_type": "markdown",
      "source": [
        "## Exercise: Writing functions\n",
        "In the following, you will write three functions in which you integrate the previously learned content."
      ],
      "id": "83c3c567914bf017"
    },
    {
      "metadata": {
        "id": "2dea4c09a812a91b"
      },
      "cell_type": "markdown",
      "source": [
        "### Function 1: Beergarden capacity\n",
        "\n",
        "Write a function `beer_garden_capacity(guests, tables)` that calculates whether there are enough seats in a beer garden.\n",
        "\n",
        "Each table has 8 seats.\n",
        "The function should return:\n",
        "- `“There are enough tables!”` → if there is enough space.\n",
        "- `“Not enough tables, find another beer garden!”` → if there are more guests than seats."
      ],
      "id": "2dea4c09a812a91b"
    },
    {
      "metadata": {
        "id": "6d0e85b58d23536f"
      },
      "cell_type": "code",
      "outputs": [],
      "execution_count": 3,
      "source": [
        "def beer_garden_capacity(guests, tables):\n",
        "    seats = tables * 8\n",
        "    if guests <= seats:\n",
        "        return \"There are enough tables!\"\n",
        "    else:\n",
        "        return \"Not enough tables, find another beer garden!\"\n"
      ],
      "id": "6d0e85b58d23536f"
    },
    {
      "metadata": {
        "colab": {
          "base_uri": "https://localhost:8080/"
        },
        "id": "4c8d83ff20a41334",
        "outputId": "8b83185c-4c1a-4de2-deca-224f347f088c"
      },
      "cell_type": "code",
      "outputs": [
        {
          "output_type": "stream",
          "name": "stdout",
          "text": [
            "There are enough tables!\n",
            "Not enough tables, find another beer garden!\n"
          ]
        }
      ],
      "execution_count": 4,
      "source": [
        "# Example calls\n",
        "print(beer_garden_capacity(40, 6))  # \"There are enough tables!\"\n",
        "print(beer_garden_capacity(50, 5))  # \"Not enough tables, find another beer garden!\""
      ],
      "id": "4c8d83ff20a41334"
    },
    {
      "metadata": {
        "id": "a710041a520f2564"
      },
      "cell_type": "markdown",
      "source": [
        "### Function 2: Isar swimming warning\n",
        "Write a function `isar_swimming_warning(temp, flow_rate)` that outputs a warning whether the Isar is too dangerous for swimmers.\n",
        "\n",
        "- If the water temperature is below 15°C, the function should return `“Warning: The Isar is too cold! ❄️”` should be returned.\n",
        "- If the flow velocity is above 300 m³/s, the function `“Warning: The current is too strong! 🌊”` should be returned.\n",
        "- If both apply, the function `“Danger! The Isar is too cold and too strong! ⚠️”`.\n",
        "- If everything is fine, it returns `“Safe to swim! Enjoy the Isar! 🏊‍♂️”`."
      ],
      "id": "a710041a520f2564"
    },
    {
      "source": [
        "def isar_swimming_warning(temp, flow_rate):\n",
        "    if temp < 15 and flow_rate > 300:\n",
        "        return \"Danger! The Isar is too cold and too strong! ⚠️\"\n",
        "    elif temp < 15:\n",
        "        return \"Warning: The Isar is too cold! ❄️\"\n",
        "    elif flow_rate > 300:\n",
        "        return \"Warning: The current is too strong! 🌊\"\n",
        "    else:\n",
        "        return \"Safe to swim! Enjoy the Isar! 🏊‍♂️\""
      ],
      "cell_type": "code",
      "metadata": {
        "id": "jIGYr_xRshn3"
      },
      "id": "jIGYr_xRshn3",
      "execution_count": 8,
      "outputs": []
    },
    {
      "metadata": {
        "colab": {
          "base_uri": "https://localhost:8080/"
        },
        "id": "b57cfa5a00c137ca",
        "outputId": "ff7593a6-5581-40e3-c831-e5a64b41d7ee"
      },
      "cell_type": "code",
      "outputs": [
        {
          "output_type": "stream",
          "name": "stdout",
          "text": [
            "Warning: The Isar is too cold! ❄️\n",
            "Warning: The current is too strong! 🌊\n",
            "Danger! The Isar is too cold and too strong! ⚠️\n",
            "Safe to swim! Enjoy the Isar! 🏊‍♂️\n"
          ]
        }
      ],
      "execution_count": 9,
      "source": [
        "print(isar_swimming_warning(14, 250))  # \"Warning: The Isar is too cold! ❄️\"\n",
        "print(isar_swimming_warning(16, 320))  # \"Warning: The current is too strong! 🌊\"\n",
        "print(isar_swimming_warning(12, 350))  # \"Danger! The Isar is too cold and too strong! ⚠️\"\n",
        "print(isar_swimming_warning(18, 280))  # \"Safe to swim! Enjoy the Isar! 🏊‍♂️\""
      ],
      "id": "b57cfa5a00c137ca"
    },
    {
      "metadata": {
        "id": "1565a2837c639146"
      },
      "cell_type": "markdown",
      "source": [
        "### Function 3: Flu cases\n",
        "Write a function `flu_cases(city_population, infection_rate, days)` that calculates the number of infected people in in several cities in Bavaria over a certain number of days using a simple exponential formula:\n",
        "\n",
        "$$\n",
        "\\text{Infected} = \\text{City population} \\times \\left( 1 - e^{-\\text{Infection rate} \\times \\text{Days}} \\right)\n",
        "$$\n",
        "\n",
        "- The cities and their populations are stored in two lists:\n",
        "    - city_names: Contains the city name (Munich, Nuremberg, Augsburg).\n",
        "    - populations: Contains the respective population figures (1480000, 530000, 300000).\n",
        "- The infection rate indicates how quickly the disease is spreading (e.g. `0.1` for slow spread, `0.3` for fast spread).\n",
        "- The function should round up the calculated number and output it in a formatted string.\n",
        "\n",
        "Note: `math.exp(-rate * days)` calculates the exponential term."
      ],
      "id": "1565a2837c639146"
    },
    {
      "source": [
        "import math\n",
        "\n",
        "city_names = [\"Munich\", \"Nuremberg\", \"Augsburg\"]\n",
        "populations = [1480000, 530000, 300000]\n",
        "\n",
        "def flu_cases(city_population, infection_rate, days):\n",
        "    infected = city_population * (1 - math.exp(-infection_rate * days))\n",
        "    infected_rounded = math.ceil(infected) # Fixed: Removed the extra indentation\n",
        "    return infected_rounded\n",
        "\n",
        "#Example for all cities:\n",
        "infection_rate = 0.3  # Example infection rate (fast spread)\n",
        "days = 10             # Example number of days\n",
        "\n",
        "for city, pop in zip(city_names, populations):\n",
        "    cases = flu_cases(pop, infection_rate, days)\n",
        "    print(f\"In {city}, there will be approximately {cases} infected people after {days} days.\")"
      ],
      "cell_type": "code",
      "metadata": {
        "colab": {
          "base_uri": "https://localhost:8080/"
        },
        "id": "HyRn3gJwtBmp",
        "outputId": "80862d4a-2436-407b-bfba-ed1d89a4803d"
      },
      "id": "HyRn3gJwtBmp",
      "execution_count": 12,
      "outputs": [
        {
          "output_type": "stream",
          "name": "stdout",
          "text": [
            "In Munich, there will be approximately 1406316 infected people after 10 days.\n",
            "In Nuremberg, there will be approximately 503613 infected people after 10 days.\n",
            "In Augsburg, there will be approximately 285064 infected people after 10 days.\n"
          ]
        }
      ]
    },
    {
      "metadata": {
        "colab": {
          "base_uri": "https://localhost:8080/"
        },
        "id": "f88224f7c6e2325a",
        "outputId": "36152a6f-64bf-43a2-d8e4-c7344ff7d498"
      },
      "cell_type": "code",
      "outputs": [
        {
          "output_type": "stream",
          "name": "stdout",
          "text": [
            "745054\n",
            "1298765\n"
          ]
        }
      ],
      "execution_count": 16,
      "source": [
        "print(flu_cases(populations[0], 0.1, 7))\n",
        "print(flu_cases(populations[0], 0.3, 7))"
      ],
      "id": "f88224f7c6e2325a"
    }
  ],
  "metadata": {
    "kernelspec": {
      "display_name": "Python 3",
      "language": "python",
      "name": "python3"
    },
    "language_info": {
      "codemirror_mode": {
        "name": "ipython",
        "version": 2
      },
      "file_extension": ".py",
      "mimetype": "text/x-python",
      "name": "python",
      "nbconvert_exporter": "python",
      "pygments_lexer": "ipython2",
      "version": "2.7.6"
    },
    "colab": {
      "provenance": [],
      "include_colab_link": true
    }
  },
  "nbformat": 4,
  "nbformat_minor": 5
}