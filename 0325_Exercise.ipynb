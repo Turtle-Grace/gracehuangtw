{
  "cells": [
    {
      "cell_type": "markdown",
      "metadata": {
        "id": "view-in-github",
        "colab_type": "text"
      },
      "source": [
        "<a href=\"https://colab.research.google.com/github/Turtle-Grace/gracehuangtw/blob/main/0325_Exercise.ipynb\" target=\"_parent\"><img src=\"https://colab.research.google.com/assets/colab-badge.svg\" alt=\"Open In Colab\"/></a>"
      ]
    },
    {
      "metadata": {
        "id": "9cf8654c36783a2c"
      },
      "cell_type": "markdown",
      "source": [
        "# Exercise: Predicting Customer Churn with a Neural Network\n",
        "\n",
        "You are provided with a real-world dataset from a telecom company that includes information about their customers, such as services signed up for, contract type, and payment behavior. Your task is to build a simple neural network to predict whether a customer will churn (i.e., leave the company) or not.\n",
        "\n",
        "## Task\n",
        "Build, train, and evaluate a neural network that predicts whether a customer has churned (`Churn` = Yes) or not (`Churn` = No), based on the other available features in the dataset.\n",
        "\n",
        "1. **Drop irrelevant columns**, which have no numerical meaning.\n",
        "2. **Convert columns** to numeric. There may be non-numeric entries; handle them appropriately (e.g. by coercing errors and dropping missing values).\n",
        "3. **Convert the target column** from categorical (\"Yes\"/\"No\") to binary (1/0).\n",
        "4. **Encode categorical features** using the `get_dummies`-function.\n",
        "5. **Prepare your data** before you feed it into your model.\n",
        "6. **Build a neural network** using Keras (e.g., with 1–3 layers) to predict churn.\n",
        "7. **Compile your model** with an appropriate loss function and optimizer.\n",
        "8. **Train your model** on the training data.\n",
        "9. **Evaluate the performance** of your model on the test set and report the test accuracy."
      ],
      "id": "9cf8654c36783a2c"
    },
    {
      "metadata": {
        "colab": {
          "base_uri": "https://localhost:8080/"
        },
        "id": "cf71709349a0df64",
        "outputId": "c32946ee-4a3c-4855-ee7a-121d2ac2f7df"
      },
      "cell_type": "code",
      "outputs": [
        {
          "output_type": "stream",
          "name": "stdout",
          "text": [
            "<class 'pandas.core.frame.DataFrame'>\n",
            "RangeIndex: 7043 entries, 0 to 7042\n",
            "Data columns (total 21 columns):\n",
            " #   Column            Non-Null Count  Dtype  \n",
            "---  ------            --------------  -----  \n",
            " 0   customerID        7043 non-null   object \n",
            " 1   gender            7043 non-null   object \n",
            " 2   SeniorCitizen     7043 non-null   int64  \n",
            " 3   Partner           7043 non-null   object \n",
            " 4   Dependents        7043 non-null   object \n",
            " 5   tenure            7043 non-null   int64  \n",
            " 6   PhoneService      7043 non-null   object \n",
            " 7   MultipleLines     7043 non-null   object \n",
            " 8   InternetService   7043 non-null   object \n",
            " 9   OnlineSecurity    7043 non-null   object \n",
            " 10  OnlineBackup      7043 non-null   object \n",
            " 11  DeviceProtection  7043 non-null   object \n",
            " 12  TechSupport       7043 non-null   object \n",
            " 13  StreamingTV       7043 non-null   object \n",
            " 14  StreamingMovies   7043 non-null   object \n",
            " 15  Contract          7043 non-null   object \n",
            " 16  PaperlessBilling  7043 non-null   object \n",
            " 17  PaymentMethod     7043 non-null   object \n",
            " 18  MonthlyCharges    7043 non-null   float64\n",
            " 19  TotalCharges      7043 non-null   object \n",
            " 20  Churn             7043 non-null   object \n",
            "dtypes: float64(1), int64(2), object(18)\n",
            "memory usage: 1.1+ MB\n"
          ]
        },
        {
          "output_type": "execute_result",
          "data": {
            "text/plain": [
              "(None,\n",
              "    customerID  gender  SeniorCitizen Partner Dependents  tenure PhoneService  \\\n",
              " 0  7590-VHVEG  Female              0     Yes         No       1           No   \n",
              " 1  5575-GNVDE    Male              0      No         No      34          Yes   \n",
              " 2  3668-QPYBK    Male              0      No         No       2          Yes   \n",
              " 3  7795-CFOCW    Male              0      No         No      45           No   \n",
              " 4  9237-HQITU  Female              0      No         No       2          Yes   \n",
              " \n",
              "       MultipleLines InternetService OnlineSecurity  ... DeviceProtection  \\\n",
              " 0  No phone service             DSL             No  ...               No   \n",
              " 1                No             DSL            Yes  ...              Yes   \n",
              " 2                No             DSL            Yes  ...               No   \n",
              " 3  No phone service             DSL            Yes  ...              Yes   \n",
              " 4                No     Fiber optic             No  ...               No   \n",
              " \n",
              "   TechSupport StreamingTV StreamingMovies        Contract PaperlessBilling  \\\n",
              " 0          No          No              No  Month-to-month              Yes   \n",
              " 1          No          No              No        One year               No   \n",
              " 2          No          No              No  Month-to-month              Yes   \n",
              " 3         Yes          No              No        One year               No   \n",
              " 4          No          No              No  Month-to-month              Yes   \n",
              " \n",
              "                PaymentMethod MonthlyCharges  TotalCharges Churn  \n",
              " 0           Electronic check          29.85         29.85    No  \n",
              " 1               Mailed check          56.95        1889.5    No  \n",
              " 2               Mailed check          53.85        108.15   Yes  \n",
              " 3  Bank transfer (automatic)          42.30       1840.75    No  \n",
              " 4           Electronic check          70.70        151.65   Yes  \n",
              " \n",
              " [5 rows x 21 columns])"
            ]
          },
          "metadata": {},
          "execution_count": 2
        }
      ],
      "execution_count": 2,
      "source": [
        "import pandas as pd\n",
        "from sklearn.model_selection import train_test_split\n",
        "from sklearn.preprocessing import StandardScaler\n",
        "import numpy as np\n",
        "\n",
        "df = pd.read_csv(\"Telco-Customer-Churn.csv\")\n",
        "df.info(), df.head()"
      ],
      "id": "cf71709349a0df64"
    },
    {
      "metadata": {
        "colab": {
          "base_uri": "https://localhost:8080/"
        },
        "id": "d919e4346e688fb8",
        "outputId": "71fad022-ae65-4074-a7a7-a2a40efe1404"
      },
      "cell_type": "code",
      "outputs": [
        {
          "output_type": "execute_result",
          "data": {
            "text/plain": [
              "((5625, 30), (1407, 30), (5625,), (1407,))"
            ]
          },
          "metadata": {},
          "execution_count": 3
        }
      ],
      "execution_count": 3,
      "source": [
        "#1. Drop irrelevant columns, which have no numerical meaning.\n",
        "df = df.drop(columns=['customerID'])\n",
        "\n",
        "#2. Convert 'TotalCharges' to numeric, coerce errors\n",
        "df['TotalCharges'] = pd.to_numeric(df['TotalCharges'], errors='coerce')\n",
        "\n",
        "#Drop rows with any missing values (after coercion)\n",
        "df = df.dropna()\n",
        "\n",
        "#3. Convert target column 'Churn' to binary\n",
        "df['Churn'] = df['Churn'].map({'Yes': 1, 'No': 0})\n",
        "\n",
        "#4. One-hot encode categorical variables\n",
        "df_encoded = pd.get_dummies(df, drop_first=True)\n",
        "\n",
        "#5. Prepare features and target\n",
        "X = df_encoded.drop(columns=['Churn'])\n",
        "y = df_encoded['Churn']\n",
        "#Standardise features\n",
        "scaler = StandardScaler()\n",
        "X_scaled = scaler.fit_transform(X)\n",
        "\n",
        "# Step 8: Train/test split\n",
        "X_train, X_test, y_train, y_test = train_test_split(X_scaled, y, test_size=0.2, random_state=42)\n",
        "\n",
        "X_train.shape, X_test.shape, y_train.shape, y_test.shape"
      ],
      "id": "d919e4346e688fb8"
    },
    {
      "cell_type": "code",
      "source": [
        "from tensorflow.keras.models import Sequential\n",
        "from tensorflow.keras.layers import Dense\n",
        "from tensorflow.keras.optimizers import Adam\n",
        "from tensorflow.keras.losses import BinaryCrossentropy\n",
        "from tensorflow.keras.metrics import Accuracy\n",
        "#6. Build the neural network model\n",
        "model = Sequential([\n",
        "    Dense(32, activation='relu', input_shape=(X_train.shape[1],)),\n",
        "    Dense(16, activation='relu'),\n",
        "    Dense(1, activation='sigmoid')  # Output layer for binary classification\n",
        "])\n",
        "\n",
        "#7. Compile the model\n",
        "model.compile(optimizer=Adam(learning_rate=0.001),\n",
        "              loss=BinaryCrossentropy(),\n",
        "              metrics=['accuracy'])\n",
        "\n",
        "#8. Train the model\n",
        "history = model.fit(X_train, y_train, epochs=20, batch_size=32, validation_split=0.2, verbose=0)\n",
        "\n",
        "#9. Evaluate the model on test data\n",
        "test_loss, test_accuracy = model.evaluate(X_test, y_test, verbose=0)\n",
        "test_accuracy"
      ],
      "metadata": {
        "colab": {
          "base_uri": "https://localhost:8080/"
        },
        "id": "8aSJdULIKUqo",
        "outputId": "d3fffde8-e70c-4b9a-c8c2-47cf6c3313cb"
      },
      "id": "8aSJdULIKUqo",
      "execution_count": 4,
      "outputs": [
        {
          "output_type": "stream",
          "name": "stderr",
          "text": [
            "/usr/local/lib/python3.11/dist-packages/keras/src/layers/core/dense.py:87: UserWarning: Do not pass an `input_shape`/`input_dim` argument to a layer. When using Sequential models, prefer using an `Input(shape)` object as the first layer in the model instead.\n",
            "  super().__init__(activity_regularizer=activity_regularizer, **kwargs)\n"
          ]
        },
        {
          "output_type": "execute_result",
          "data": {
            "text/plain": [
              "0.7846481800079346"
            ]
          },
          "metadata": {},
          "execution_count": 4
        }
      ]
    },
    {
      "cell_type": "code",
      "source": [
        "#A model that doesn't require TensorFlow\n",
        "from sklearn.linear_model import LogisticRegression\n",
        "from sklearn.metrics import accuracy_score, classification_report, confusion_matrix\n",
        "\n",
        "#Train a logistic regression model\n",
        "log_reg = LogisticRegression(max_iter=1000)\n",
        "log_reg.fit(X_train, y_train)\n",
        "\n",
        "#Predict on the test set\n",
        "y_pred = log_reg.predict(X_test)\n",
        "\n",
        "#Evaluate model\n",
        "accuracy = accuracy_score(y_test, y_pred)\n",
        "report = classification_report(y_test, y_pred)\n",
        "conf_matrix = confusion_matrix(y_test, y_pred)\n",
        "\n",
        "accuracy, report, conf_matrix"
      ],
      "metadata": {
        "colab": {
          "base_uri": "https://localhost:8080/"
        },
        "id": "1MK2cKw8K7eS",
        "outputId": "81b32b5f-1e01-40a6-acaf-71eb3d6f8a50"
      },
      "id": "1MK2cKw8K7eS",
      "execution_count": 5,
      "outputs": [
        {
          "output_type": "execute_result",
          "data": {
            "text/plain": [
              "(0.7874911158493249,\n",
              " '              precision    recall  f1-score   support\\n\\n           0       0.83      0.89      0.86      1033\\n           1       0.62      0.52      0.56       374\\n\\n    accuracy                           0.79      1407\\n   macro avg       0.73      0.70      0.71      1407\\nweighted avg       0.78      0.79      0.78      1407\\n',\n",
              " array([[915, 118],\n",
              "        [181, 193]]))"
            ]
          },
          "metadata": {},
          "execution_count": 5
        }
      ]
    },
    {
      "cell_type": "markdown",
      "source": [
        "The model is good at predicting customers who do not churn.\n",
        "But it struggles with detecting customers who do churn, which is common with imbalanced classes.\n",
        "[[914, 119],   ← 914 true negatives, 119 false positives\n",
        " [181, 193]]   ← 181 false negatives, 193 true positives"
      ],
      "metadata": {
        "id": "laAXFd7eLH04"
      },
      "id": "laAXFd7eLH04"
    }
  ],
  "metadata": {
    "kernelspec": {
      "display_name": "Python 3",
      "language": "python",
      "name": "python3"
    },
    "language_info": {
      "codemirror_mode": {
        "name": "ipython",
        "version": 2
      },
      "file_extension": ".py",
      "mimetype": "text/x-python",
      "name": "python",
      "nbconvert_exporter": "python",
      "pygments_lexer": "ipython2",
      "version": "2.7.6"
    },
    "colab": {
      "provenance": [],
      "include_colab_link": true
    }
  },
  "nbformat": 4,
  "nbformat_minor": 5
}