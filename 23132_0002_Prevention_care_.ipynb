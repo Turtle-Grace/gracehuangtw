{
  "nbformat": 4,
  "nbformat_minor": 0,
  "metadata": {
    "colab": {
      "provenance": [],
      "authorship_tag": "ABX9TyNWc6cXj8KPjfrtfNIRmwcZ",
      "include_colab_link": true
    },
    "kernelspec": {
      "name": "python3",
      "display_name": "Python 3"
    },
    "language_info": {
      "name": "python"
    }
  },
  "cells": [
    {
      "cell_type": "markdown",
      "metadata": {
        "id": "view-in-github",
        "colab_type": "text"
      },
      "source": [
        "<a href=\"https://colab.research.google.com/github/Turtle-Grace/gracehuangtw/blob/main/23132_0002_Prevention_care_.ipynb\" target=\"_parent\"><img src=\"https://colab.research.google.com/assets/colab-badge.svg\" alt=\"Open In Colab\"/></a>"
      ]
    },
    {
      "cell_type": "code",
      "execution_count": 3,
      "metadata": {
        "id": "u_8DYZnkaKnT",
        "outputId": "205bcbe5-2700-4332-bfa9-e21bc7947097",
        "colab": {
          "base_uri": "https://localhost:8080/"
        }
      },
      "outputs": [
        {
          "output_type": "execute_result",
          "data": {
            "text/plain": [
              "['F32 Male', 'F33 Male', 'F32 Female', 'F33 Female', 'F32 All', 'F33 All']"
            ]
          },
          "metadata": {},
          "execution_count": 3
        }
      ],
      "source": [
        "import pandas as pd\n",
        "\n",
        "# Load the Excel file\n",
        "file_path = \"/content/Final_Cleaned_prevention care 23132-0002.xlsx\"\n",
        "excel_file = pd.ExcelFile(file_path)\n",
        "\n",
        "# List all sheet names to see what we have\n",
        "sheet_names = excel_file.sheet_names\n",
        "sheet_names"
      ]
    },
    {
      "cell_type": "code",
      "source": [
        "!pip install xlsxwriter\n",
        "def compute_percentages_formatted(sheet_df):\n",
        "    df = sheet_df.copy()\n",
        "    non_age_columns = ['Year\\n', 'Year\\n       Code', 'Code', 'Main diagnosis', 'Gender',\n",
        "                       'Actual Count', 'Age Unknown', 'Total']\n",
        "    age_columns = [col for col in df.columns if col not in non_age_columns and not col.startswith('Year')]\n",
        "\n",
        "    # Compute and format percentages\n",
        "    for col in age_columns:\n",
        "        df[col] = ((df[col] / df['Total']) * 100).map(lambda x: f\"{x:.2f}%\")\n",
        "\n",
        "    return df[['Year\\n'] + age_columns]\n",
        "\n",
        "# Recompute with formatted percentages\n",
        "formatted_percentage_sheets = {}\n",
        "for sheet in sheet_names:\n",
        "    df = excel_file.parse(sheet)\n",
        "    formatted_percentage_sheets[sheet] = compute_percentages_formatted(df)\n",
        "\n",
        "# Save formatted percentages to a new Excel file\n",
        "formatted_output_path = \"/content/%_prevention care 23132-0002.xlsx\"\n",
        "with pd.ExcelWriter(formatted_output_path, engine='xlsxwriter') as writer:\n",
        "    for sheet_name, df in formatted_percentage_sheets.items():\n",
        "        df.to_excel(writer, sheet_name=sheet_name, index=False)\n",
        "\n",
        "formatted_output_path"
      ],
      "metadata": {
        "colab": {
          "base_uri": "https://localhost:8080/",
          "height": 52
        },
        "id": "GjvzKfeAlUp8",
        "outputId": "9157f5f1-01a3-47d5-a059-db1df14cfedb"
      },
      "execution_count": 7,
      "outputs": [
        {
          "output_type": "stream",
          "name": "stdout",
          "text": [
            "Requirement already satisfied: xlsxwriter in /usr/local/lib/python3.11/dist-packages (3.2.2)\n"
          ]
        },
        {
          "output_type": "execute_result",
          "data": {
            "text/plain": [
              "'/content/%_prevention care 23132-0002.xlsx'"
            ],
            "application/vnd.google.colaboratory.intrinsic+json": {
              "type": "string"
            }
          },
          "metadata": {},
          "execution_count": 7
        }
      ]
    }
  ]
}